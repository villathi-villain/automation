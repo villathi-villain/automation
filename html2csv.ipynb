{
 "cells": [
  {
   "cell_type": "code",
   "execution_count": 1,
   "metadata": {},
   "outputs": [
    {
     "name": "stderr",
     "output_type": "stream",
     "text": [
      "/Users/khalid/Library/Python/3.9/lib/python/site-packages/urllib3/__init__.py:35: NotOpenSSLWarning: urllib3 v2 only supports OpenSSL 1.1.1+, currently the 'ssl' module is compiled with 'LibreSSL 2.8.3'. See: https://github.com/urllib3/urllib3/issues/3020\n",
      "  warnings.warn(\n"
     ]
    },
    {
     "name": "stdout",
     "output_type": "stream",
     "text": [
      "Data has been saved to cell_samples.csv\n",
      "First few rows of the DataFrame (head):\n",
      "        ID Clump UnifSize UnifShape MargAdh SingEpiSize BareNuc BlandChrom  \\\n",
      "0  1000025     5        1         1       1           2       1          3   \n",
      "1  1002945     5        4         4       5           7      10          3   \n",
      "2  1015425     3        1         1       1           2       2          3   \n",
      "3  1016277     6        8         8       1           3       4          3   \n",
      "4  1017023     4        1         1       3           2       1          3   \n",
      "\n",
      "  NormNucl Mit Class  \n",
      "0        1   1     2  \n",
      "1        2   1     2  \n",
      "2        1   1     2  \n",
      "3        7   1     2  \n",
      "4        1   1     2  \n",
      "\n",
      "Summary statistics of the DataFrame (describe):\n",
      "             ID Clump UnifSize UnifShape MargAdh SingEpiSize BareNuc  \\\n",
      "count       699   699      699       699     699         699     699   \n",
      "unique      645    10       10        10      10          10      11   \n",
      "top     1182404     1        1         1       1           2       1   \n",
      "freq          6   145      384       353     407         386     402   \n",
      "\n",
      "       BlandChrom NormNucl  Mit Class  \n",
      "count         699      699  699   699  \n",
      "unique         10       10    9     2  \n",
      "top             2        1    1     2  \n",
      "freq          166      443  579   458  \n"
     ]
    }
   ],
   "source": [
    "import requests\n",
    "import pandas as pd\n",
    "import os\n",
    "\n",
    "# Input option for the URL of the CSV file\n",
    "url = input(\"Please enter the URL of the CSV file: \")\n",
    "\n",
    "# Extract the file name from the URL\n",
    "file_name = os.path.basename(url)\n",
    "csv_file = file_name.split('.')[0] + '.csv'\n",
    "\n",
    "# Function to validate the URL\n",
    "def is_url_valid(url):\n",
    "    try:\n",
    "        response = requests.head(url)\n",
    "        return response.status_code == 200\n",
    "    except requests.RequestException as e:\n",
    "        print(f'An error occurred: {e}')\n",
    "        return False\n",
    "\n",
    "# Check if the URL is valid\n",
    "if is_url_valid(url):\n",
    "    # Fetch the CSV content\n",
    "    response = requests.get(url)\n",
    "\n",
    "    # Check if the request was successful\n",
    "    if response.status_code == 200:\n",
    "        # Save the content to a CSV file\n",
    "        with open(csv_file, 'wb') as file:\n",
    "            file.write(response.content)\n",
    "        print(f'Data has been saved to {csv_file}')\n",
    "    else:\n",
    "        print(f'Failed to download the file: Status code {response.status_code}')\n",
    "else:\n",
    "    print('The provided URL is not valid or the resource is not accessible.')\n",
    "\n",
    "# Fetch the page content\n",
    "response = requests.get(url)\n",
    "\n",
    "# Check if the request was successful\n",
    "if response.status_code == 200:\n",
    "    # Decode the content to a string\n",
    "    data = response.content.decode('utf-8')\n",
    "    \n",
    "    # Split the content into lines\n",
    "    lines = data.splitlines()\n",
    "    \n",
    "    # Create a list of lists from the lines\n",
    "    data_list = [line.split(',') for line in lines]\n",
    "    \n",
    "    # Convert to a DataFrame\n",
    "    df = pd.DataFrame(data_list[1:], columns=data_list[0])\n",
    "    \n",
    "    # Display the first few rows of the DataFrame\n",
    "    print(\"First few rows of the DataFrame (head):\")\n",
    "    print(df.head())\n",
    "    \n",
    "    # Display summary statistics of the DataFrame\n",
    "    print(\"\\nSummary statistics of the DataFrame (describe):\")\n",
    "    print(df.describe())\n",
    "    \n",
    "else:\n",
    "    print(f'Failed to fetch the data: Status code {response.status_code}')"
   ]
  },
  {
   "cell_type": "code",
   "execution_count": null,
   "metadata": {},
   "outputs": [],
   "source": []
  }
 ],
 "metadata": {
  "kernelspec": {
   "display_name": "Python 3",
   "language": "python",
   "name": "python3"
  },
  "language_info": {
   "codemirror_mode": {
    "name": "ipython",
    "version": 3
   },
   "file_extension": ".py",
   "mimetype": "text/x-python",
   "name": "python",
   "nbconvert_exporter": "python",
   "pygments_lexer": "ipython3",
   "version": "3.9.6"
  }
 },
 "nbformat": 4,
 "nbformat_minor": 2
}
